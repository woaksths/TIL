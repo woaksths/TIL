{
 "cells": [
  {
   "cell_type": "markdown",
   "metadata": {},
   "source": [
    "# Pytorch\n",
    "Python 기반 과학 연산 패키지로 \n",
    "- Numpy 를 대체하면서 GPU를 이용한 연산이 필요한 경우\n",
    "- 최대한의 유연성과 속도를 제공하는 딥러닝 연구 플랫폼에 필요하다\n"
   ]
  },
  {
   "cell_type": "code",
   "execution_count": 1,
   "metadata": {},
   "outputs": [],
   "source": [
    "from __future__ import print_function\n",
    "import torch\n",
    "import torchvision"
   ]
  },
  {
   "cell_type": "markdown",
   "metadata": {},
   "source": [
    "## Tensors"
   ]
  },
  {
   "cell_type": "markdown",
   "metadata": {},
   "source": [
    "- Tensor는 Numpy의 ndaaray와 유사하며 추가로 gpu를 사용한 연산 가속도 가능하다."
   ]
  },
  {
   "cell_type": "markdown",
   "metadata": {},
   "source": [
    "초기화되지 않은 5x3 행렬 생성"
   ]
  },
  {
   "cell_type": "code",
   "execution_count": 2,
   "metadata": {},
   "outputs": [
    {
     "name": "stdout",
     "output_type": "stream",
     "text": [
      "tensor([[0., 0., 0.],\n",
      "        [0., 0., 0.],\n",
      "        [0., 0., 0.],\n",
      "        [0., 0., 0.],\n",
      "        [0., 0., 0.]])\n"
     ]
    }
   ],
   "source": [
    "x = torch.empty(5,3)\n",
    "print(x)"
   ]
  },
  {
   "cell_type": "markdown",
   "metadata": {},
   "source": [
    "무작위로 초기화된 행렬을 생성"
   ]
  },
  {
   "cell_type": "code",
   "execution_count": 3,
   "metadata": {},
   "outputs": [
    {
     "name": "stdout",
     "output_type": "stream",
     "text": [
      "tensor([[0.8815, 0.0134, 0.7502],\n",
      "        [0.9600, 0.1275, 0.0592],\n",
      "        [0.2167, 0.5472, 0.3549],\n",
      "        [0.2682, 0.7488, 0.3320],\n",
      "        [0.7919, 0.6211, 0.9159]])\n"
     ]
    }
   ],
   "source": [
    "x =  torch.rand(5,3)\n",
    "print(x)"
   ]
  },
  {
   "cell_type": "markdown",
   "metadata": {},
   "source": [
    "dtype이 long이고 0으로 채워진 행렬 생성"
   ]
  },
  {
   "cell_type": "code",
   "execution_count": 4,
   "metadata": {},
   "outputs": [
    {
     "name": "stdout",
     "output_type": "stream",
     "text": [
      "tensor([[0, 0, 0],\n",
      "        [0, 0, 0],\n",
      "        [0, 0, 0],\n",
      "        [0, 0, 0],\n",
      "        [0, 0, 0]])\n"
     ]
    }
   ],
   "source": [
    "x = torch.zeros(5,3, dtype = torch.long)\n",
    "print(x)"
   ]
  },
  {
   "cell_type": "markdown",
   "metadata": {},
   "source": [
    "데이터로부터 tensor 직접 생성"
   ]
  },
  {
   "cell_type": "code",
   "execution_count": 5,
   "metadata": {},
   "outputs": [
    {
     "name": "stdout",
     "output_type": "stream",
     "text": [
      "tensor([5.5000, 3.0000])\n"
     ]
    }
   ],
   "source": [
    "x = torch.tensor([5.5,3])\n",
    "print(x)"
   ]
  },
  {
   "cell_type": "markdown",
   "metadata": {},
   "source": [
    " 또 존재하는 tensor를 바탕으로 tensor를 만들 수 있다. \n",
    " 이 메소드들은 사용자로부터 제공된 새로운 값이 없는 한 입력 tensor의 속성들을 재사용한다.\n"
   ]
  },
  {
   "cell_type": "code",
   "execution_count": 6,
   "metadata": {},
   "outputs": [
    {
     "name": "stdout",
     "output_type": "stream",
     "text": [
      "tensor([[1., 1., 1.],\n",
      "        [1., 1., 1.],\n",
      "        [1., 1., 1.],\n",
      "        [1., 1., 1.],\n",
      "        [1., 1., 1.]], dtype=torch.float64)\n"
     ]
    }
   ],
   "source": [
    "x = x.new_ones(5,3, dtype = torch.double)\n",
    "print(x)"
   ]
  },
  {
   "cell_type": "code",
   "execution_count": 7,
   "metadata": {},
   "outputs": [
    {
     "name": "stdout",
     "output_type": "stream",
     "text": [
      "tensor([[0.9569, 0.1319, 0.5813],\n",
      "        [0.2053, 0.8424, 0.8408],\n",
      "        [0.4725, 0.3446, 0.0033],\n",
      "        [0.4116, 0.0518, 0.3196],\n",
      "        [0.2269, 0.9048, 0.8710]])\n"
     ]
    }
   ],
   "source": [
    "x= torch.rand_like(x, dtype=torch.float)\n",
    "print(x)"
   ]
  },
  {
   "cell_type": "code",
   "execution_count": 8,
   "metadata": {},
   "outputs": [
    {
     "name": "stdout",
     "output_type": "stream",
     "text": [
      "torch.Size([5, 3])\n"
     ]
    }
   ],
   "source": [
    "print(x.size())"
   ]
  },
  {
   "cell_type": "markdown",
   "metadata": {},
   "source": [
    "## 연산 (Operations)"
   ]
  },
  {
   "cell_type": "markdown",
   "metadata": {},
   "source": [
    " 덧셈 문법"
   ]
  },
  {
   "cell_type": "code",
   "execution_count": 9,
   "metadata": {},
   "outputs": [
    {
     "name": "stdout",
     "output_type": "stream",
     "text": [
      "tensor([[0.9569, 0.1319, 0.5813],\n",
      "        [0.2053, 0.8424, 0.8408],\n",
      "        [0.4725, 0.3446, 0.0033],\n",
      "        [0.4116, 0.0518, 0.3196],\n",
      "        [0.2269, 0.9048, 0.8710]])\n",
      "tensor([[0.8998, 0.2404, 0.1990],\n",
      "        [0.2505, 0.4660, 0.0521],\n",
      "        [0.7473, 0.2391, 0.0074],\n",
      "        [0.4382, 0.9929, 0.0465],\n",
      "        [0.3984, 0.9474, 0.6994]])\n",
      "tensor([[1.8568, 0.3724, 0.7803],\n",
      "        [0.4558, 1.3084, 0.8929],\n",
      "        [1.2198, 0.5836, 0.0108],\n",
      "        [0.8498, 1.0447, 0.3661],\n",
      "        [0.6252, 1.8521, 1.5704]])\n"
     ]
    }
   ],
   "source": [
    "y = torch.rand(5,3)\n",
    "print(x)\n",
    "print(y)\n",
    "print(x+y)"
   ]
  },
  {
   "cell_type": "code",
   "execution_count": 10,
   "metadata": {},
   "outputs": [
    {
     "name": "stdout",
     "output_type": "stream",
     "text": [
      "tensor([[1.8568, 0.3724, 0.7803],\n",
      "        [0.4558, 1.3084, 0.8929],\n",
      "        [1.2198, 0.5836, 0.0108],\n",
      "        [0.8498, 1.0447, 0.3661],\n",
      "        [0.6252, 1.8521, 1.5704]])\n"
     ]
    }
   ],
   "source": [
    "print(torch.add(x,y))"
   ]
  },
  {
   "cell_type": "code",
   "execution_count": 11,
   "metadata": {},
   "outputs": [
    {
     "name": "stdout",
     "output_type": "stream",
     "text": [
      "tensor([[1.8568, 0.3724, 0.7803],\n",
      "        [0.4558, 1.3084, 0.8929],\n",
      "        [1.2198, 0.5836, 0.0108],\n",
      "        [0.8498, 1.0447, 0.3661],\n",
      "        [0.6252, 1.8521, 1.5704]])\n"
     ]
    }
   ],
   "source": [
    "result = torch.empty(5,3)\n",
    "torch.add(x,y, out = result)\n",
    "print(result)"
   ]
  },
  {
   "cell_type": "markdown",
   "metadata": {},
   "source": [
    "- In place 덧셈 방식\n",
    "- in place 방식으로 tensor의 값을 변경하는 연산은 _ 를 접미사로 가집니다."
   ]
  },
  {
   "cell_type": "code",
   "execution_count": 12,
   "metadata": {},
   "outputs": [
    {
     "name": "stdout",
     "output_type": "stream",
     "text": [
      "tensor([[0.8998, 0.2404, 0.1990],\n",
      "        [0.2505, 0.4660, 0.0521],\n",
      "        [0.7473, 0.2391, 0.0074],\n",
      "        [0.4382, 0.9929, 0.0465],\n",
      "        [0.3984, 0.9474, 0.6994]])\n",
      "tensor([[1.8568, 0.3724, 0.7803],\n",
      "        [0.4558, 1.3084, 0.8929],\n",
      "        [1.2198, 0.5836, 0.0108],\n",
      "        [0.8498, 1.0447, 0.3661],\n",
      "        [0.6252, 1.8521, 1.5704]])\n"
     ]
    }
   ],
   "source": [
    "print(y)\n",
    "y.add_(x)\n",
    "print(y)"
   ]
  },
  {
   "cell_type": "markdown",
   "metadata": {},
   "source": [
    "Numpy와 같이 인덱싱 표기 방법을 사용할 수 도 있다. "
   ]
  },
  {
   "cell_type": "code",
   "execution_count": 13,
   "metadata": {},
   "outputs": [
    {
     "name": "stdout",
     "output_type": "stream",
     "text": [
      "tensor([0.1319, 0.8424, 0.3446, 0.0518, 0.9048])\n"
     ]
    }
   ],
   "source": [
    "print(x[:,1])"
   ]
  },
  {
   "cell_type": "markdown",
   "metadata": {},
   "source": [
    "- 크기 변경: tensor의 크기(size)나 모양(shape)를 변경하고 싶다면\n",
    "- torch.view를 사용하여야한다. "
   ]
  },
  {
   "cell_type": "code",
   "execution_count": 14,
   "metadata": {},
   "outputs": [
    {
     "name": "stdout",
     "output_type": "stream",
     "text": [
      "tensor([-1.0350, -0.4932, -0.0963,  0.1337,  0.5166,  0.3159,  0.2315, -1.5270,\n",
      "         1.9998, -0.7348,  0.3212,  1.0099,  2.5114,  1.0220, -0.1359,  0.0270])\n",
      "tensor([[-1.0350, -0.4932, -0.0963,  0.1337,  0.5166,  0.3159,  0.2315, -1.5270],\n",
      "        [ 1.9998, -0.7348,  0.3212,  1.0099,  2.5114,  1.0220, -0.1359,  0.0270]])\n",
      "torch.Size([4, 4]) torch.Size([16]) torch.Size([2, 8])\n"
     ]
    }
   ],
   "source": [
    "x = torch.randn(4,4)\n",
    "y = x.view(16)\n",
    "print(y)\n",
    "z = x.view(-1,8) # -1은 다른 차원들을 사용하여 유추합니다\n",
    "print(z)\n",
    "print(x.size(),y.size(),z.size())"
   ]
  },
  {
   "cell_type": "markdown",
   "metadata": {},
   "source": [
    " 만약 tensor에 하나의 값만 존재한다면, item()을 사용하면 숫자 값을 얻을 수 있다."
   ]
  },
  {
   "cell_type": "code",
   "execution_count": 15,
   "metadata": {},
   "outputs": [
    {
     "name": "stdout",
     "output_type": "stream",
     "text": [
      "tensor([1.3021])\n",
      "1.3021270036697388\n"
     ]
    }
   ],
   "source": [
    "x = torch.randn(1)\n",
    "print(x)\n",
    "print(x.item())"
   ]
  },
  {
   "cell_type": "markdown",
   "metadata": {},
   "source": [
    "- NUMPY 변환 (BRIDGE)\n",
    "- Torch Tensor를 Numpy 배열로 변환하거나, 그 반대로 변환 가능하다. \n",
    "- (CPU 상에서) Torch Tensor와 Numpy 배열은 저장공간을 공유하기 때문에, 하나를 변경하면 다른 하나도 변경된다."
   ]
  },
  {
   "cell_type": "code",
   "execution_count": 16,
   "metadata": {},
   "outputs": [
    {
     "name": "stdout",
     "output_type": "stream",
     "text": [
      "tensor([1., 1., 1., 1., 1.])\n"
     ]
    }
   ],
   "source": [
    "a = torch.ones(5)\n",
    "print(a)"
   ]
  },
  {
   "cell_type": "code",
   "execution_count": 17,
   "metadata": {},
   "outputs": [
    {
     "name": "stdout",
     "output_type": "stream",
     "text": [
      "[1. 1. 1. 1. 1.]\n"
     ]
    }
   ],
   "source": [
    "b = a.numpy()\n",
    "print(b)"
   ]
  },
  {
   "cell_type": "markdown",
   "metadata": {},
   "source": [
    "- 저장 공간을 공유하기 때문에 tensor와 numpy 배열 값이 하나를 변경하면 다른 하나도 변경된다."
   ]
  },
  {
   "cell_type": "code",
   "execution_count": 18,
   "metadata": {},
   "outputs": [
    {
     "name": "stdout",
     "output_type": "stream",
     "text": [
      "tensor([2., 2., 2., 2., 2.])\n",
      "[2. 2. 2. 2. 2.]\n"
     ]
    }
   ],
   "source": [
    "a.add_(1)\n",
    "print(a)\n",
    "print(b)\n"
   ]
  },
  {
   "cell_type": "markdown",
   "metadata": {},
   "source": [
    "- Numpy 배열을 Torch Tensor로 변환하기"
   ]
  },
  {
   "cell_type": "code",
   "execution_count": 19,
   "metadata": {},
   "outputs": [
    {
     "name": "stdout",
     "output_type": "stream",
     "text": [
      "[2. 2. 2. 2. 2.]\n",
      "tensor([2., 2., 2., 2., 2.], dtype=torch.float64)\n"
     ]
    }
   ],
   "source": [
    "import numpy as np\n",
    "a = np.ones(5)\n",
    "b = torch.from_numpy(a)\n",
    "np.add(a,1, out = a)\n",
    "print(a)\n",
    "print(b)"
   ]
  },
  {
   "cell_type": "markdown",
   "metadata": {},
   "source": [
    "## CUDA TENSORS\n",
    "- .to 메소드를 통해 Tensor를 어떠한 장치로도 옮길 수 있다."
   ]
  },
  {
   "cell_type": "code",
   "execution_count": 20,
   "metadata": {},
   "outputs": [],
   "source": [
    "# 해당 코드는 CUDA가 사용 가능한ㄴ 환경에서만 실행 가능\n",
    "# ''torch.device''를 사용하여 tensor를 GPU 안팎으로 이동시킬 수있다. \n",
    "if torch.cuda.is_available():\n",
    "    device = torch.device(\"cuda\")\n",
    "    y = torch.ones_like(x, device=device)\n",
    "    # CUDA 장치 객체로 GPU 상에 직접적으로 tensor를 생성하거나\n",
    "    x = x.to(device)\n",
    "    # ''.to(\"cuda\")''를 사용하면 된다. \n",
    "    z = x + y\n",
    "    print(z)\n",
    "    print(z.to(\"cpu\", torch.double)) # ''.to'' 는 dtype도 함께 변경 가능"
   ]
  }
 ],
 "metadata": {
  "kernelspec": {
   "display_name": "Python 3",
   "language": "python",
   "name": "python3"
  },
  "language_info": {
   "codemirror_mode": {
    "name": "ipython",
    "version": 3
   },
   "file_extension": ".py",
   "mimetype": "text/x-python",
   "name": "python",
   "nbconvert_exporter": "python",
   "pygments_lexer": "ipython3",
   "version": "3.6.8"
  }
 },
 "nbformat": 4,
 "nbformat_minor": 2
}
