{
 "cells": [
  {
   "cell_type": "code",
   "execution_count": 1,
   "metadata": {},
   "outputs": [],
   "source": [
    "import torch\n",
    "import torch.nn as nn\n",
    "import torchvision\n",
    "import torchvision.transforms as transforms"
   ]
  },
  {
   "cell_type": "code",
   "execution_count": 2,
   "metadata": {},
   "outputs": [],
   "source": [
    "\n",
    "# Hyper-parameters\n",
    "input_size = 784\n",
    "num_classes = 10\n",
    "num_epochs = 5\n",
    "batch_size = 100\n",
    "learning_rate = 0.001\n"
   ]
  },
  {
   "cell_type": "code",
   "execution_count": 3,
   "metadata": {},
   "outputs": [],
   "source": [
    "# MNIST dataset (images and labels)\n",
    "train_dataset = torchvision.datasets.MNIST(root='../../data',\n",
    "                                           train=True,\n",
    "                                           transform =transforms.ToTensor(),\n",
    "                                           download=True)\n",
    "\n",
    "test_dataset = torchvision.datasets.MNIST(root='../../data',\n",
    "                                          train=False,\n",
    "                                          transform=transforms.ToTensor())\n",
    "\n",
    "# Data loader( input pipeline)\n",
    "train_loader = torch.utils.data.DataLoader(dataset=train_dataset,\n",
    "                                           batch_size=batch_size,\n",
    "                                           shuffle=True)\n",
    "\n",
    "test_loader = torch.utils.data.DataLoader(dataset=test_dataset,\n",
    "                                          batch_size=batch_size,\n",
    "                                          shuffle=False)\n",
    "\n",
    "# Logistic regression model\n",
    "model = nn.Linear(input_size, num_classes)\n",
    "\n",
    "# Loss and optimizer\n",
    "# nn.CrossEntropyLoss() computes softmax internally\n",
    "criterion = nn.CrossEntropyLoss()\n",
    "optimizer = torch.optim.SGD(model.parameters(),lr=learning_rate)\n",
    "\n"
   ]
  },
  {
   "cell_type": "code",
   "execution_count": 4,
   "metadata": {},
   "outputs": [
    {
     "name": "stdout",
     "output_type": "stream",
     "text": [
      "Epoch [1/5], Step [100/600], Loss:2.2054\n",
      "Epoch [1/5], Step [200/600], Loss:2.1113\n",
      "Epoch [1/5], Step [300/600], Loss:2.0146\n",
      "Epoch [1/5], Step [400/600], Loss:1.9238\n",
      "Epoch [1/5], Step [500/600], Loss:1.8327\n",
      "Epoch [1/5], Step [600/600], Loss:1.7985\n",
      "Epoch [2/5], Step [100/600], Loss:1.6356\n",
      "Epoch [2/5], Step [200/600], Loss:1.7031\n",
      "Epoch [2/5], Step [300/600], Loss:1.6581\n",
      "Epoch [2/5], Step [400/600], Loss:1.6864\n",
      "Epoch [2/5], Step [500/600], Loss:1.5431\n",
      "Epoch [2/5], Step [600/600], Loss:1.4679\n",
      "Epoch [3/5], Step [100/600], Loss:1.5290\n",
      "Epoch [3/5], Step [200/600], Loss:1.3474\n",
      "Epoch [3/5], Step [300/600], Loss:1.3554\n",
      "Epoch [3/5], Step [400/600], Loss:1.2382\n",
      "Epoch [3/5], Step [500/600], Loss:1.2925\n",
      "Epoch [3/5], Step [600/600], Loss:1.3138\n",
      "Epoch [4/5], Step [100/600], Loss:1.3058\n",
      "Epoch [4/5], Step [200/600], Loss:1.2698\n",
      "Epoch [4/5], Step [300/600], Loss:1.2449\n",
      "Epoch [4/5], Step [400/600], Loss:1.0465\n",
      "Epoch [4/5], Step [500/600], Loss:1.1031\n",
      "Epoch [4/5], Step [600/600], Loss:1.1851\n",
      "Epoch [5/5], Step [100/600], Loss:1.0844\n",
      "Epoch [5/5], Step [200/600], Loss:1.0211\n",
      "Epoch [5/5], Step [300/600], Loss:1.1404\n",
      "Epoch [5/5], Step [400/600], Loss:1.0223\n",
      "Epoch [5/5], Step [500/600], Loss:1.0926\n",
      "Epoch [5/5], Step [600/600], Loss:0.9906\n"
     ]
    }
   ],
   "source": [
    "# Train the model\n",
    "total_step = len(train_loader)\n",
    "for epoch in range(num_epochs):\n",
    "    for i, (images, labels) in enumerate(train_loader):\n",
    "        # Reshape images to (batch_size, input_size)\n",
    "        images = images.reshape(-1, 28*28)\n",
    "        \n",
    "        # Forward pass\n",
    "        outputs = model(images)\n",
    "        loss = criterion(outputs, labels)\n",
    "        \n",
    "        # Backward and optimizer\n",
    "        optimizer.zero_grad()\n",
    "        loss.backward()\n",
    "        optimizer.step()\n",
    "        \n",
    "        if (i+1) %100 == 0:\n",
    "            print('Epoch [{}/{}], Step [{}/{}], Loss:{:.4f}'.\n",
    "                  format(epoch+1, num_epochs, i+1, total_step, loss.item()))\n",
    "        "
   ]
  },
  {
   "cell_type": "code",
   "execution_count": 5,
   "metadata": {},
   "outputs": [
    {
     "name": "stdout",
     "output_type": "stream",
     "text": [
      "Accuracy of the model on the 10000 test images: 83 %\n"
     ]
    }
   ],
   "source": [
    "# Test the modle\n",
    "# In test phase, we don't need to compute gradients (for memory efficiency)\n",
    "\n",
    "with torch.no_grad():\n",
    "    correct =0\n",
    "    total =0\n",
    "    for images, labels in test_loader:\n",
    "        images = images.reshape(-1, 28*28)\n",
    "        outputs = model(images)\n",
    "        _, predicted = torch.max(outputs.data,1)\n",
    "        total+= labels.size(0)\n",
    "        correct += (predicted == labels).sum()\n",
    "    \n",
    "    print('Accuracy of the model on the 10000 test images: {} %'.format(100 * correct / total))\n"
   ]
  },
  {
   "cell_type": "code",
   "execution_count": 6,
   "metadata": {},
   "outputs": [],
   "source": [
    "# save the model checkpoint\n",
    "torch.save(model.state_dict(), 'model.ckpt')"
   ]
  },
  {
   "cell_type": "code",
   "execution_count": null,
   "metadata": {},
   "outputs": [],
   "source": []
  }
 ],
 "metadata": {
  "kernelspec": {
   "display_name": "Python 3",
   "language": "python",
   "name": "python3"
  },
  "language_info": {
   "codemirror_mode": {
    "name": "ipython",
    "version": 3
   },
   "file_extension": ".py",
   "mimetype": "text/x-python",
   "name": "python",
   "nbconvert_exporter": "python",
   "pygments_lexer": "ipython3",
   "version": "3.6.8"
  }
 },
 "nbformat": 4,
 "nbformat_minor": 2
}
